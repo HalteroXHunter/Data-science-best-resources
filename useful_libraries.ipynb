{
  "nbformat": 4,
  "nbformat_minor": 0,
  "metadata": {
    "colab": {
      "provenance": [],
      "authorship_tag": "ABX9TyOmfc7t1MtyI5hQiLqRoT62",
      "include_colab_link": true
    },
    "kernelspec": {
      "name": "python3",
      "display_name": "Python 3"
    },
    "language_info": {
      "name": "python"
    }
  },
  "cells": [
    {
      "cell_type": "markdown",
      "metadata": {
        "id": "view-in-github",
        "colab_type": "text"
      },
      "source": [
        "<a href=\"https://colab.research.google.com/github/HalteroXHunter/Data-science-best-resources/blob/master/useful_libraries.ipynb\" target=\"_parent\"><img src=\"https://colab.research.google.com/assets/colab-badge.svg\" alt=\"Open In Colab\"/></a>"
      ]
    },
    {
      "cell_type": "markdown",
      "source": [
        "source: https://medium.com/@Divithraju/six-amazing-unknown-python-libraries-c7bdad6b4472"
      ],
      "metadata": {
        "id": "qBtsbnG9OWeZ"
      }
    },
    {
      "cell_type": "code",
      "execution_count": null,
      "metadata": {
        "id": "WnCg5RxhMy5A"
      },
      "outputs": [],
      "source": [
        "!pip install pendulum"
      ]
    },
    {
      "cell_type": "code",
      "source": [
        "import pendulum\n",
        "dt = pendulum.datetime(2023, 1, 31)\n",
        "print(dt)"
      ],
      "metadata": {
        "colab": {
          "base_uri": "https://localhost:8080/"
        },
        "id": "2nlpVPt7M0vk",
        "outputId": "7ac9ccc6-35f3-4291-d4cb-067f7ec74544"
      },
      "execution_count": 2,
      "outputs": [
        {
          "output_type": "stream",
          "name": "stdout",
          "text": [
            "2023-01-31T00:00:00+00:00\n"
          ]
        }
      ]
    },
    {
      "cell_type": "code",
      "source": [
        "#local() creates datetime instance with local timezone\n",
        "\n",
        "local = pendulum.local(2023, 1, 31)\n",
        "print(\"Local Time:\", local)\n",
        "print(\"Local Time Zone:\", local.timezone.name)"
      ],
      "metadata": {
        "colab": {
          "base_uri": "https://localhost:8080/"
        },
        "id": "b56G2AVIM8JU",
        "outputId": "5f0ede38-d871-43cd-cb67-3aa14fb58c53"
      },
      "execution_count": 3,
      "outputs": [
        {
          "output_type": "stream",
          "name": "stdout",
          "text": [
            "Local Time: 2023-01-31T00:00:00+00:00\n",
            "Local Time Zone: Etc/UTC\n"
          ]
        }
      ]
    },
    {
      "cell_type": "code",
      "source": [
        "# Printing UTC time\n",
        "\n",
        "utc = pendulum.now('UTC')\n",
        "print(\"Current UTC time:\", utc)"
      ],
      "metadata": {
        "colab": {
          "base_uri": "https://localhost:8080/"
        },
        "id": "F7_UxAWPNDV5",
        "outputId": "915c850c-ebce-4d77-f4b8-bd5458f1ce27"
      },
      "execution_count": 4,
      "outputs": [
        {
          "output_type": "stream",
          "name": "stdout",
          "text": [
            "Current UTC time: 2023-06-02T08:23:37.273434+00:00\n"
          ]
        }
      ]
    },
    {
      "cell_type": "code",
      "source": [
        "# Converting UTC timezone into Europe/Paris time\n",
        "\n",
        "europe = utc.in_timezone('Europe/Paris')\n",
        "print(\"Current time in Paris:\", europe)"
      ],
      "metadata": {
        "colab": {
          "base_uri": "https://localhost:8080/"
        },
        "id": "_b8Fd8FiNHyL",
        "outputId": "89b52072-6e49-43eb-943b-4bcb9fee41cf"
      },
      "execution_count": 5,
      "outputs": [
        {
          "output_type": "stream",
          "name": "stdout",
          "text": [
            "Current time in Paris: 2023-06-02T10:23:37.273434+02:00\n"
          ]
        }
      ]
    },
    {
      "cell_type": "markdown",
      "source": [
        "Have you encountered when the foreign language present in the data does not appear correctly? This is called Mojibake. Mojibake is a term used to describe garbled or scrambled text that occurs as a result of encoding or decoding problems. It typically occurs when text that was written in one character encoding is incorrectly decoded using a different encoding. ftfy python library will help you fix the Mojibake, which is very useful in NLP use cases."
      ],
      "metadata": {
        "id": "0H-l6b6XNcYg"
      }
    },
    {
      "cell_type": "code",
      "source": [
        "!pip install ftfy\n"
      ],
      "metadata": {
        "id": "IU8QlfhCNKVj"
      },
      "execution_count": null,
      "outputs": []
    },
    {
      "cell_type": "code",
      "source": [
        "import ftfy"
      ],
      "metadata": {
        "id": "puteS6jANkmx"
      },
      "execution_count": 8,
      "outputs": []
    },
    {
      "cell_type": "code",
      "source": [
        "print(ftfy.fix_text('Correct the sentence using â€œftfyâ€\\x9d.'))\n",
        "print(ftfy.fix_text('âœ” No problems with text'))\n",
        "print(ftfy.fix_text('Ã perturber la rÃ©flexion'))"
      ],
      "metadata": {
        "colab": {
          "base_uri": "https://localhost:8080/"
        },
        "id": "x_LyCTUqNemj",
        "outputId": "ad069554-9074-4e23-cf96-2c06227e6591"
      },
      "execution_count": 9,
      "outputs": [
        {
          "output_type": "stream",
          "name": "stdout",
          "text": [
            "Correct the sentence using \"ftfy\".\n",
            "✔ No problems with text\n",
            "à perturber la réflexion\n"
          ]
        }
      ]
    },
    {
      "cell_type": "code",
      "source": [
        "!pip install sketch"
      ],
      "metadata": {
        "id": "fkiqr54NNiaF"
      },
      "execution_count": null,
      "outputs": []
    },
    {
      "cell_type": "code",
      "source": [
        "# Importing libraries\n",
        "import sketch\n",
        "import pandas as pd\n",
        "# Reading the data (using twitter data as an example)\n",
        "df = pd.read_csv(\"tweets.csv\")\n",
        "print(df)"
      ],
      "metadata": {
        "id": "NFKhXg45Nzfy"
      },
      "execution_count": null,
      "outputs": []
    },
    {
      "cell_type": "code",
      "source": [
        "# Asking which columns are category type\n",
        "df.sketch.ask(\"Which columns are category type?\")"
      ],
      "metadata": {
        "id": "irYESzFIOCwn"
      },
      "execution_count": null,
      "outputs": []
    },
    {
      "cell_type": "code",
      "source": [
        "# To find the shape of the dataframe\n",
        "df.sketch.ask(\"What is the shape of the dataframe\")"
      ],
      "metadata": {
        "id": "rAjMmdchOCzX"
      },
      "execution_count": null,
      "outputs": []
    },
    {
      "cell_type": "code",
      "source": [
        "# Asking to provide code snipped for visualising the emotions\n",
        "df.sketch.howto(\"Visualize the emotions\")"
      ],
      "metadata": {
        "id": "3jI0pDwtOFRM"
      },
      "execution_count": null,
      "outputs": []
    },
    {
      "cell_type": "markdown",
      "source": [],
      "metadata": {
        "id": "PGwKvi7ZOVgt"
      }
    },
    {
      "cell_type": "code",
      "source": [],
      "metadata": {
        "id": "EGkaLZxyOFTq"
      },
      "execution_count": null,
      "outputs": []
    }
  ]
}